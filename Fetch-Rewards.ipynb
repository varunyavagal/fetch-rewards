{
 "cells": [
  {
   "cell_type": "code",
   "execution_count": 1,
   "metadata": {},
   "outputs": [],
   "source": [
    "import re\n",
    "\n",
    "def replacePunctuations(str): #the punctuations are replaced as strings\n",
    "    return re.sub(r'[^\\w\\s]', '', str)"
   ]
  },
  {
   "cell_type": "code",
   "execution_count": 2,
   "metadata": {},
   "outputs": [],
   "source": [
    "def remove_stopwords(data): #stopwords are removed, the text file has been attached to the repository\n",
    "    with open('C://Users//varun//Desktop//stopwords.txt') as stopfile:\n",
    "        stopwords = set(stopfile.read().split()) #once seen, the words are stripped and then removed from the result set\n",
    "        result = []\n",
    "        for word in data:\n",
    "            if word not in stopwords:\n",
    "                result.append(word)\n",
    "        return result"
   ]
  },
  {
   "cell_type": "code",
   "execution_count": 3,
   "metadata": {},
   "outputs": [],
   "source": [
    "def prepareSet(str): #the total set is prepared for the jaccard similarity to work on\n",
    "    return set(filter(lambda x: len(x) > 0, remove_stopwords(replacePunctuations(str.lower()).split())))"
   ]
  },
  {
   "cell_type": "code",
   "execution_count": 8,
   "metadata": {},
   "outputs": [
    {
     "data": {
      "text/plain": [
       "0.5333333333333333"
      ]
     },
     "execution_count": 8,
     "metadata": {},
     "output_type": "execute_result"
    }
   ],
   "source": [
    "def get_jaccard_sim(str1, str2):  #jaccard similarity is calculated\n",
    "    a = prepareSet(str1)\n",
    "    b = prepareSet(str2)\n",
    "    c = a.intersection(b)\n",
    "    return float(len(c)) / (len(a) + len(b) - len(c))\n",
    "\n",
    "get_jaccard_sim(\"The easiest way to earn points with Fetch Rewards is to just shop for the products you already love. If you have any participating brands on your receipt, you'll get points based on the cost of the products. You don't need to clip any coupons or scan individual barcodes. Just scan each grocery receipt after you shop and we'll find the savings for you.\", \"The easiest way to earn points with Fetch Rewards is to just shop for the items you already buy. If you have any eligible brands on your receipt, you will get points based on the total cost of the products. You do not need to cut out any coupons or scan individual UPCs. Just scan your receipt after you check out and we will find the savings for you.\")"
   ]
  },
  {
   "cell_type": "code",
   "execution_count": null,
   "metadata": {},
   "outputs": [
    {
     "name": "stdout",
     "output_type": "stream",
     "text": [
      " * Serving Flask app \"__main__\" (lazy loading)\n",
      " * Environment: production\n",
      "   WARNING: Do not use the development server in a production environment.\n",
      "   Use a production WSGI server instead.\n",
      " * Debug mode: off\n"
     ]
    },
    {
     "name": "stderr",
     "output_type": "stream",
     "text": [
      " * Running on http://127.0.0.1:5000/ (Press CTRL+C to quit)\n",
      "127.0.0.1 - - [14/Dec/2020 16:57:45] \"\u001b[37mGET /result?param1=(The%20easiest%20way%20to%20earn%20points%20with%20Fetch%20Rewards%20is%20to%20just%20shop%20for%20the%20products%20you%20already%20love.%20If%20you%20have%20any%20participating%20brands%20on%20your%20receipt,%20you%27ll%20get%20points%20based%20on%20the%20cost%20of%20the%20products.%20You%20don%27t%20need%20to%20clip%20any%20coupons%20or%20scan%20individual%20barcodes.%20Just%20scan%20each%20grocery%20receipt%20after%20you%20shop%20and%20we%27ll%20find%20the%20savings%20for%20you.)&param2=(The%20easiest%20way%20to%20earn%20points%20with%20Fetch%20Rewards%20is%20to%20just%20shop%20for%20the%20items%20you%20already%20buy.%20If%20you%20have%20any%20eligible%20brands%20on%20your%20receipt,%20you%20will%20get%20points%20based%20on%20the%20total%20cost%20of%20the%20products.%20You%20do%20not%20need%20to%20cut%20out%20any%20coupons%20or%20scan%20individual%20UPCs.%20Just%20scan%20your%20receipt%20after%20you%20check%20out%20and%20we%20will%20find%20the%20savings%20for%20you.) HTTP/1.1\u001b[0m\" 200 -\n"
     ]
    }
   ],
   "source": [
    "from flask import Flask, redirect, url_for, request #flask is used here to create GUI\n",
    "app = Flask(__name__)\n",
    "\n",
    "@app.route('/')\n",
    "def success():\n",
    "   return 'welcome!'\n",
    "\n",
    "@app.route('/result')\n",
    "def hello_world():\n",
    "    a = str(request.args['param1']) # parameters are set for the strings to type into the address bar and getting the output\n",
    "    b = str(request.args['param2'])\n",
    "    result = get_jaccard_sim(a,b)\n",
    "    return str(result)\n",
    "\n",
    "if __name__ == '__main__':\n",
    "   app.run()"
   ]
  },
  {
   "cell_type": "code",
   "execution_count": null,
   "metadata": {},
   "outputs": [],
   "source": [
    "# http://localhost:5000/result?param1=(The easiest way to earn points with Fetch Rewards is to just shop for the products you already love. If you have any participating brands on your receipt, you'll get points based on the cost of the products. You don't need to clip any coupons or scan individual barcodes. Just scan each grocery receipt after you shop and we'll find the savings for you.)&param2=(The easiest way to earn points with Fetch Rewards is to just shop for the items you already buy. If you have any eligible brands on your receipt, you will get points based on the total cost of the products. You do not need to cut out any coupons or scan individual UPCs. Just scan your receipt after you check out and we will find the savings for you.)"
   ]
  }
 ],
 "metadata": {
  "kernelspec": {
   "display_name": "Python 3",
   "language": "python",
   "name": "python3"
  },
  "language_info": {
   "codemirror_mode": {
    "name": "ipython",
    "version": 3
   },
   "file_extension": ".py",
   "mimetype": "text/x-python",
   "name": "python",
   "nbconvert_exporter": "python",
   "pygments_lexer": "ipython3",
   "version": "3.6.8"
  }
 },
 "nbformat": 4,
 "nbformat_minor": 2
}
